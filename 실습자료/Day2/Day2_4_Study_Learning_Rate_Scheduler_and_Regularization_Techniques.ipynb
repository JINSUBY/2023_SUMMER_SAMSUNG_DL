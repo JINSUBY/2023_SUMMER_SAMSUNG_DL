{
  "nbformat": 4,
  "nbformat_minor": 0,
  "metadata": {
    "colab": {
      "provenance": [],
      "toc_visible": true,
      "include_colab_link": true
    },
    "kernelspec": {
      "name": "python3",
      "display_name": "Python 3"
    },
    "language_info": {
      "name": "python"
    },
    "accelerator": "GPU",
    "gpuClass": "standard"
  },
  "cells": [
    {
      "cell_type": "markdown",
      "metadata": {
        "id": "view-in-github",
        "colab_type": "text"
      },
      "source": [
        "<a href=\"https://colab.research.google.com/github/jiminAn/2023_SUMMER_SAMSUNG_DL/blob/main/%EC%8B%A4%EC%8A%B5%EC%9E%90%EB%A3%8C/Day2/Day2_4_Study_Learning_Rate_Scheduler_and_Regularization_Techniques.ipynb\" target=\"_parent\"><img src=\"https://colab.research.google.com/assets/colab-badge.svg\" alt=\"Open In Colab\"/></a>"
      ]
    },
    {
      "cell_type": "markdown",
      "metadata": {
        "id": "9IuOTnU2Gevg"
      },
      "source": [
        "# Day2.4 Study Learning Rate Scheduler and Regularization Techiques\n",
        "### 실습 목표\n",
        "- `Learning rate scheduler`와 `Reguraization techniques`에 대해 알아보고 모델 학습에 적용해보기\n"
      ]
    },
    {
      "cell_type": "markdown",
      "source": [
        "## 0. Setting\n",
        "- DL 관련 library 호출\n",
        "- GPU 설정"
      ],
      "metadata": {
        "id": "swWoY_0EGcFu"
      }
    },
    {
      "cell_type": "code",
      "metadata": {
        "id": "WyWiElwZ-L0u"
      },
      "source": [
        "import torch\n",
        "import torch.nn as nn\n",
        "import torch.optim as optim\n",
        "import matplotlib.pyplot as plt\n",
        "import numpy as np\n",
        "from torchsummary import summary"
      ],
      "execution_count": 2,
      "outputs": []
    },
    {
      "cell_type": "code",
      "source": [
        "USE_CUDA = torch.cuda.is_available()\n",
        "DEVICE = torch.device(\"cuda\" if USE_CUDA else \"cpu\")\n",
        "print(DEVICE)"
      ],
      "metadata": {
        "colab": {
          "base_uri": "https://localhost:8080/"
        },
        "id": "zGzUKFaiGklh",
        "outputId": "973e9871-9c3b-43ec-84ff-f988882c1eb0"
      },
      "execution_count": 3,
      "outputs": [
        {
          "output_type": "stream",
          "name": "stdout",
          "text": [
            "cuda\n"
          ]
        }
      ]
    },
    {
      "cell_type": "markdown",
      "source": [
        "## 1. Learning Rate Scheduler\n",
        "- Learning rate(lr): backpropagation 학습 과정에서 모델의 weight인 gradient의 변화/업데이트 보폭\n",
        "- Learning rate scheduler: 처음부터 끝까지 같은 lr를 사용할 수도 있지만, 학습과정에서 lr를 조정하는 learning rate scheduler 사용 가능\n",
        "\n",
        "\n",
        "### optim.lr_scheduler\n",
        " - [doc] (https://pytorch.org/docs/stable/optim.html)\n",
        "\n",
        " ![image.png](http://drive.google.com/uc?id=1LsHW_g90NRBemBEm-1Bn-0et0qDNyi8v)\n",
        "\n",
        " ![image.png](https://img1.daumcdn.net/thumb/R1280x0/?scode=mtistory2&fname=https%3A%2F%2Fblog.kakaocdn.net%2Fdn%2FbeNGrz%2FbtqQzRMQAQx%2FE5HgPj8oe4AugHgHxS7RlK%2Fimg.png)\n",
        "\n",
        " - [ optimizer class ]\n",
        "\n",
        " ![image.png](http://drive.google.com/uc?id=1Ab6eMphYOE15DPMd_wBKW0HwsDM6mlfV)\n",
        "\n",
        " - [ scheduler function ]\n",
        "\n",
        " ![image.png](http://drive.google.com/uc?id=1Ri1piSSdPng993SCk0vGqDGuoiD5aDqd)\n",
        "\n",
        " ![image.png](http://drive.google.com/uc?id=1cU3Et1QbKPf4jKoCwK14jDz3SgVkRG8N)"
      ],
      "metadata": {
        "id": "WEMOKqbrYOUf"
      }
    },
    {
      "cell_type": "markdown",
      "source": [
        "## 2. 모델 구성 및 학습\n"
      ],
      "metadata": {
        "id": "ZNp5t2uh_vVQ"
      }
    },
    {
      "cell_type": "markdown",
      "source": [
        "### 2.1 \b기본 모델 정의\n",
        "\n",
        "\n",
        "![image.png](https://blog.kakaocdn.net/dn/b5XcJp/btqWUpKHPTL/wy9Z1Kg41sn6Nbqe2IKBMk/img.png)"
      ],
      "metadata": {
        "id": "ATNfB7itMclT"
      }
    },
    {
      "cell_type": "code",
      "metadata": {
        "id": "2gyzM_OF0Zw5"
      },
      "source": [
        "class Net(nn.Module):\n",
        "    def __init__(self):\n",
        "        super(Net, self).__init__()\n",
        "        self.fc1 = nn.Linear(784, 256)\n",
        "        self.fc2 = nn.Linear(256, 128)\n",
        "        self.fc3 = nn.Linear(128, 10)\n",
        "\n",
        "\n",
        "    def forward(self, x):\n",
        "        x = x.view(-1, 784) # flatten : (1,28,28) -> (1,784)\n",
        "        x = F.relu(self.fc1(x)) # (1,784) -> fc1 -> (1, 256)\n",
        "        x = F.relu(self.fc2(x)) # (1,256) -> fc2 -> (1, 128)\n",
        "        x = self.fc3(x)  # (1,128) -> fc2 -> (1, 128)\n",
        "\n",
        "        return x\n",
        "\n",
        "model = Net().to(DEVICE)"
      ],
      "execution_count": 4,
      "outputs": []
    },
    {
      "cell_type": "markdown",
      "source": [
        "### 2.2 Learning Rate Scheduler 모델에 적용하기"
      ],
      "metadata": {
        "id": "YPdFj6GOMTV3"
      }
    },
    {
      "cell_type": "markdown",
      "source": [
        "#### optimizer class: SGD(Stochastic Gradient Descent)\n",
        "- gradient descent를 전체 데이터(batch)가 아닌 일부 데이터의 모음을 사용하는 방법\n",
        "- ![image.png](https://velog.velcdn.com/images%2Fkyoung99u%2Fpost%2F878fb7c0-1c78-43c8-8455-924895c2cb7d%2Fimage.png)\n",
        "\n"
      ],
      "metadata": {
        "id": "u1BWed3NKf6-"
      }
    },
    {
      "cell_type": "markdown",
      "source": [
        "#### Learning rate scheduler in torch: `optim.lr_scheduler.stepLR(optimizer, step_size, gamma)`\n",
        "- `optimizer`: 이전에 정의한 optimizer 변수명\n",
        "- `step_size`: step size마다 gamma 비율로 lr을 감소시큼\n",
        "- `gamma`: 일정한 Step 마다 lr에 gamma를 곱해주는 방식\n",
        "- [참고](https://pytorch.org/docs/stable/optim.html)"
      ],
      "metadata": {
        "id": "E6HrSjdxHCyX"
      }
    },
    {
      "cell_type": "code",
      "metadata": {
        "id": "QgLv3VK8K6zK",
        "colab": {
          "base_uri": "https://localhost:8080/",
          "height": 448
        },
        "outputId": "fd2a825b-0f52-4cc8-980e-ca65bc8af663"
      },
      "source": [
        "# Parameter 설정\n",
        "########################################## Change This Code~!\n",
        "EPOCHS = 100\n",
        "LR = 0.01\n",
        "STEP_SIZE = 30\n",
        "GAMMA = 0.1\n",
        "########################################## Change This Code~!\n",
        "\n",
        "# Optimizer 및 Scheduler 설정\n",
        "optimizer = optim.SGD(model.parameters(), lr=LR)\n",
        "scheduler = optim.lr_scheduler.StepLR(optimizer, step_size=STEP_SIZE, gamma=GAMMA) # step size마다 gamma 비율로 lr을 감소시킨다. (step_size 마다 gamma를 곱한다.)\n",
        "\n",
        "def get_lr(optimizer, scheduler): # Training 코드\n",
        "    lr = scheduler.get_last_lr()[0]\n",
        "    optimizer.step()\n",
        "    scheduler.step() # Scheduler를 사용한다면 필수적으로 들어가야함\n",
        "    #print(lr)\n",
        "    return lr\n",
        "\n",
        "plt.plot(torch.arange(EPOCHS), [get_lr(optimizer, scheduler) for t in range(EPOCHS)])"
      ],
      "execution_count": 5,
      "outputs": [
        {
          "output_type": "execute_result",
          "data": {
            "text/plain": [
              "[<matplotlib.lines.Line2D at 0x7f5b9028b250>]"
            ]
          },
          "metadata": {},
          "execution_count": 5
        },
        {
          "output_type": "display_data",
          "data": {
            "text/plain": [
              "<Figure size 640x480 with 1 Axes>"
            ],
            "image/png": "[encoded data removed]"
          },
          "metadata": {}
        }
      ]
    },
    {
      "cell_type": "markdown",
      "metadata": {
        "id": "5sCDot73ctvA"
      },
      "source": [
        "## 3. Regularization Techniques"
      ]
    },
    {
      "cell_type": "markdown",
      "metadata": {
        "id": "xlzoACw9eOnw"
      },
      "source": [
        "### 3.1 Early Stopping\n",
        "\n",
        "![image.png](https://miro.medium.com/max/1400/1*06sTlOC3AYeZAjzUDwbaMw@2x.jpeg)"
      ]
    },
    {
      "cell_type": "markdown",
      "source": [
        "#### Early Stopping Algorithm\n",
        "- 실제 돌아가는 코드는 아닙니다. 알고리즘 참고용"
      ],
      "metadata": {
        "id": "rqLIChzwVCmh"
      }
    },
    {
      "cell_type": "code",
      "metadata": {
        "id": "0nQimUqQxGGH"
      },
      "source": [
        "# Early Stopping Algorithm\n",
        "count = 0\n",
        "valid_acc = 0\n",
        "for epcho in range(EPOCHS): # training loop\n",
        "    for idx, (image, target) in enumerate(valid_loader): # at each epoch\n",
        "        output = model(image) # model inference\n",
        "        valid_acc = accuracy(output, target) # calculate valid accuracy\n",
        "        if valid_acc > best_valid_acc: # Valid dataset에 대한 accuracy가 계속 증가하고 있으면 --> count=0, model 저장\n",
        "            best_valid_acc = valid_acc\n",
        "            torch.save(model.state_dict(), path) # save best model\n",
        "            count = 0\n",
        "        else: # Valid Accuracy가 증가하지 않을 때\n",
        "            count += 1\n",
        "            if count >= 3: # 연속 3번 epoch 동안 accuracy가 best accuracy보다 크지 못하다면\n",
        "                break # Early Stopping Point 이다."
      ],
      "execution_count": null,
      "outputs": []
    },
    {
      "cell_type": "markdown",
      "metadata": {
        "id": "7f7jg-aqd_hq"
      },
      "source": [
        "### 3.2 Batch Normalization\n",
        "![image.png](https://gaussian37.github.io/assets/img/dl/concept/batchnorm/4.png)\n",
        "- 학습 과정에서 각 배치 단위 별로 데이터가 다양한 분포를 가지더라도 각 배치별로 평균과 분산을 이용해 정규화하는 것을 뜻함.\n",
        "- batch 단위나 layer에 따라서 입력 값의 분포가 모두 다르지만 정규화를 통하여 분포를 zero mean gaussian 형태로 만듦.\n",
        "- [내용 참고](https://gaussian37.github.io/dl-concept-batchnorm/)\n",
        "\n",
        "\n",
        "#### Batch Normalization in torch\n",
        "- x에 dimension에 따라 `torch.nn.BatchNorm1d`와 `torch.nn.BatchNorm2d`를 구분해서 사용\n",
        "- [doc] (https://pytorch.org/docs/stable/generated/torch.nn.BatchNorm2d.html)\n",
        "\n",
        " ![image.png](http://drive.google.com/uc?id=1sId2CSNqxKncTueKwgtIoBzEMvSfAvhx)\n",
        " ![image.png](http://drive.google.com/uc?id=1fycDf_67C9OBV1GHZBmwD4P83iNtS5XL)\n",
        "\n",
        "#### Quiz1\n",
        "- 레이어 구성 순서에 맞게 코드 빈칸을 채워주세요\n",
        "- Hint: x-> fc(x) -> bath_norm(x) -> activation(x)\n",
        "\n",
        " ![image.png](http://drive.google.com/uc?id=1dDAMt76ZNg1stRVXMs_gYrz7CBw-PbmA)\n"
      ]
    },
    {
      "cell_type": "code",
      "metadata": {
        "id": "dsK1rtKJH-SB"
      },
      "source": [
        "# Model 설정\n",
        "class Net(nn.Module):\n",
        "    def __init__(self):\n",
        "        super(Net, self).__init__()\n",
        "        self.relu = nn.ReLU()\n",
        "        self.fc1 = nn.Linear(784, 256)\n",
        "        self.bn1 = nn.BatchNorm1d(num_features=256) # x가 2-dim 이면 nn.BatchNorm2d\n",
        "        self.fc2 = nn.Linear(256, 128)\n",
        "        self.bn2 = nn.BatchNorm1d(num_features=128) # x가 2-dim 이면 nn.BatchNorm2d\n",
        "        self.fc3 = nn.Linear(128, 10)\n",
        "\n",
        "    def forward(self, x):\n",
        "        x = x.view(-1, 784)\n",
        "        ########################################## Change This Code~!\n",
        "        x = ?? # conv: fc1\n",
        "        x = ?? # conv: fc2\n",
        "        ########################################## Change This Code~!\n",
        "        x = self.fc3(x)\n",
        "        return x\n",
        "\n",
        "model = Net().to(\"cuda\")\n",
        "summary(model, (1, 28, 28))"
      ],
      "execution_count": null,
      "outputs": []
    },
    {
      "cell_type": "markdown",
      "metadata": {
        "id": "AtgtyCq7eck2"
      },
      "source": [
        "### 3.3 Dropout : nn.Dropout2d\n",
        "![imgae.png](https://img1.daumcdn.net/thumb/R1280x0/?scode=mtistory2&fname=https%3A%2F%2Fblog.kakaocdn.net%2Fdn%2Fm5YtD%2FbtrbwgszFXZ%2FxdUhkeyK2lmrQXYy7HioL0%2Fimg.png)\n",
        "- 서로 연결된 layer 0~1 사이의 확률로 뉴런을 제거(drop)하는 기법\n",
        "- ex. drop-out rate가 0.5라고 가정\n",
        "  - Drop-out 이전에 4개의 뉴런끼리 모두 연결되어 있는 Fully Connected Layer\n",
        "  - 4개의 뉴런 각각은 0.5의 확률로 제거될지 말지 랜덤하게 결정\n",
        "  - 사용목적: 특정한 feature만을 과도하게 집중하여 학습함으로써 발생하는 overfitting을 방지하기 위해 사용.\n",
        "  - [내용 참고](https://heytech.tistory.com/127)\n",
        "\n",
        "- [doc] (https://pytorch.org/docs/stable/generated/torch.nn.Dropout2d.html)\n",
        "\n",
        " ![image.png](http://drive.google.com/uc?id=1qYq4XLqNskL8ejGVjFblS9cVfYIJmyHR)\n",
        " ![image.png](http://drive.google.com/uc?id=11jcEX8ADdeW4y2U1EnFbk0j2h4OQX9TG)\n",
        "\n",
        " #### Quiz2\n",
        "- 레이어 구성 순서에 맞게 코드 빈칸을 채워주세요\n",
        "- Hint: x-> fc(x) -> bath_norm(x) -> activation(x) -> dropout(x)\n",
        " ![image.png](http://drive.google.com/uc?id=1dDAMt76ZNg1stRVXMs_gYrz7CBw-PbmA)"
      ]
    },
    {
      "cell_type": "code",
      "metadata": {
        "id": "s2myTmx9JMhN"
      },
      "source": [
        "# Model 설정\n",
        "class Net(nn.Module):\n",
        "    def __init__(self):\n",
        "        super(Net, self).__init__()\n",
        "        self.dropout = nn.Dropout(p=0.5) # x가 2-dim 이면 nn.Dropout2d\n",
        "        self.relu = nn.ReLU()\n",
        "        self.fc1 = nn.Linear(784, 256)\n",
        "        self.bn1 = nn.BatchNorm1d(256) # x가 2-dim 이면 nn.BatchNorm2d\n",
        "        self.fc2 = nn.Linear(256, 128)\n",
        "        self.bn2 = nn.BatchNorm1d(128) # x가 2-dim 이면 nn.BatchNorm2d\n",
        "        self.fc3 = nn.Linear(128, 10)\n",
        "\n",
        "    def forward(self, x):\n",
        "        x = x.view(-1, 784)\n",
        "        ########################################## Change This Code~!\n",
        "        x = ?? # conv: fc1\n",
        "        x = ?? # conv: fc2\n",
        "        ########################################## Change This Code~!\n",
        "        x = self.fc3(x)\n",
        "        return x\n",
        "\n",
        "model = Net().to(\"cuda\")\n",
        "summary(model, (1, 28, 28))"
      ],
      "execution_count": null,
      "outputs": []
    }
  ]
}