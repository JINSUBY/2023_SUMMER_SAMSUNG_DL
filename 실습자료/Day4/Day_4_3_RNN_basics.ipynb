{
  "nbformat": 4,
  "nbformat_minor": 0,
  "metadata": {
    "kernelspec": {
      "display_name": "Python 3",
      "language": "python",
      "name": "python3"
    },
    "language_info": {
      "codemirror_mode": {
        "name": "ipython",
        "version": 3
      },
      "file_extension": ".py",
      "mimetype": "text/x-python",
      "name": "python",
      "nbconvert_exporter": "python",
      "pygments_lexer": "ipython3",
      "version": "3.7.0"
    },
    "colab": {
      "provenance": [],
      "include_colab_link": true
    },
    "accelerator": "GPU",
    "gpuClass": "standard"
  },
  "cells": [
    {
      "cell_type": "markdown",
      "metadata": {
        "id": "view-in-github",
        "colab_type": "text"
      },
      "source": [
        "<a href=\"https://colab.research.google.com/github/jiminAn/2023_SUMMER_SAMSUNG_DL/blob/main/%EC%8B%A4%EC%8A%B5%EC%9E%90%EB%A3%8C/Day4/Day_4_3_RNN_basics.ipynb\" target=\"_parent\"><img src=\"https://colab.research.google.com/assets/colab-badge.svg\" alt=\"Open In Colab\"/></a>"
      ]
    },
    {
      "cell_type": "markdown",
      "source": [
        "# Day 4.3 RNN Basic\n",
        "### 실습 목표\n",
        "- RNN 모델의 입력 데이터 형태를 살펴보고 모델을 정의해보자"
      ],
      "metadata": {
        "id": "wFw-fD-9Y6Oi"
      }
    },
    {
      "cell_type": "markdown",
      "source": [
        "### Contents\n",
        "1. RNN 모델의 입력 데이터 형태\n",
        "2. RNN 모델 정의\n",
        "  1. vanila RNN\n",
        "  2. LSTM\n"
      ],
      "metadata": {
        "id": "W2WkCdopXDA-"
      }
    },
    {
      "cell_type": "markdown",
      "source": [
        "## 0. Setting\n",
        "- DL 관련 library 호출\n",
        "- GPU 설정"
      ],
      "metadata": {
        "id": "Jp0RB5pFXHZo"
      }
    },
    {
      "cell_type": "code",
      "metadata": {
        "id": "Ao23uZrmNkac"
      },
      "source": [
        "import torch\n",
        "import numpy as np\n",
        "import torchvision\n",
        "import torchvision.transforms as transforms\n",
        "import matplotlib.pyplot as plt"
      ],
      "execution_count": null,
      "outputs": []
    },
    {
      "cell_type": "code",
      "source": [
        "USE_CUDA = torch.cuda.is_available()\n",
        "DEVICE = torch.device(\"cuda\" if USE_CUDA else \"cpu\")\n",
        "print(DEVICE)"
      ],
      "metadata": {
        "colab": {
          "base_uri": "https://localhost:8080/"
        },
        "id": "uYinY_CEXSTQ",
        "outputId": "4da8cecc-be4a-441b-b8fb-8cbf7e6499ea"
      },
      "execution_count": null,
      "outputs": [
        {
          "output_type": "stream",
          "name": "stdout",
          "text": [
            "cuda\n"
          ]
        }
      ]
    },
    {
      "cell_type": "markdown",
      "source": [
        "## 1. RNN 모델의 입력 데이터 형태\n",
        "\n",
        "### 예시: \"hello\"를 RNN 모델의 입력 데이터로 넣어보자.\n",
        "![img.png](https://3863425935-files.gitbook.io/~/files/v0/b/gitbook-legacy-files/o/assets%2F-LIA3amopGH9NC6Rf0mA%2F-M4bJ-IWAKzglR0XHFwU%2F-M4bJ3KvyPXdSmZt6cU6%2Flanguage-model.png?generation=1586576265109629&alt=media)\n"
      ],
      "metadata": {
        "id": "JNnAMjyS37HK"
      }
    },
    {
      "cell_type": "code",
      "source": [
        "#\"hello\"를 one-hot encoding을 사용하여 벡터로 치환해봅시다\n",
        "h = [1, 0, 0, 0]\n",
        "e = [0, 1, 0, 0]\n",
        "l = [0, 0, 1, 0]\n",
        "o = [0, 0, 0, 1]"
      ],
      "metadata": {
        "id": "nZp4LmoH371z"
      },
      "execution_count": null,
      "outputs": []
    },
    {
      "cell_type": "code",
      "source": [
        "input_data_np = np.array([[h, e, l, l, o]], dtype=np.float32)\n",
        "input_data = torch.Tensor(input_data_np)\n",
        "input_data"
      ],
      "metadata": {
        "colab": {
          "base_uri": "https://localhost:8080/"
        },
        "id": "WOwjBO7I39K9",
        "outputId": "2770c6a9-02fd-4748-b129-4f910beee06f"
      },
      "execution_count": null,
      "outputs": [
        {
          "output_type": "execute_result",
          "data": {
            "text/plain": [
              "tensor([[[1., 0., 0., 0.],\n",
              "         [0., 1., 0., 0.],\n",
              "         [0., 0., 1., 0.],\n",
              "         [0., 0., 1., 0.],\n",
              "         [0., 0., 0., 1.]]])"
            ]
          },
          "metadata": {},
          "execution_count": 14
        }
      ]
    },
    {
      "cell_type": "markdown",
      "source": [
        "- 앞에서 선언한 벡터를 이용하여 추가로, \"eolll\", \"lleel\"를 벡터로 치환해봅시다"
      ],
      "metadata": {
        "id": "qyyGaN3k4CV8"
      }
    },
    {
      "cell_type": "code",
      "source": [
        "# transform as torch tensor\n",
        "input_data_np = np.array([[h, e, l, l, o],\n",
        "                          [e, o, l, l, l],\n",
        "                          [l, l, e, e, l]], dtype=np.float32)\n",
        "input_data = torch.Tensor(input_data_np)\n",
        "input_data"
      ],
      "metadata": {
        "id": "x05lReWG4Dfg",
        "colab": {
          "base_uri": "https://localhost:8080/"
        },
        "outputId": "b0f1770d-3389-45eb-9546-a2f85ce87a7a"
      },
      "execution_count": null,
      "outputs": [
        {
          "output_type": "execute_result",
          "data": {
            "text/plain": [
              "tensor([[[1., 0., 0., 0.],\n",
              "         [0., 1., 0., 0.],\n",
              "         [0., 0., 1., 0.],\n",
              "         [0., 0., 1., 0.],\n",
              "         [0., 0., 0., 1.]],\n",
              "\n",
              "        [[0., 1., 0., 0.],\n",
              "         [0., 0., 0., 1.],\n",
              "         [0., 0., 1., 0.],\n",
              "         [0., 0., 1., 0.],\n",
              "         [0., 0., 1., 0.]],\n",
              "\n",
              "        [[0., 0., 1., 0.],\n",
              "         [0., 0., 1., 0.],\n",
              "         [0., 1., 0., 0.],\n",
              "         [0., 1., 0., 0.],\n",
              "         [0., 0., 1., 0.]]])"
            ]
          },
          "metadata": {},
          "execution_count": 15
        }
      ]
    },
    {
      "cell_type": "code",
      "source": [
        "# (batch size, seq length(time step), input_size)\n",
        "input_data.size()"
      ],
      "metadata": {
        "colab": {
          "base_uri": "https://localhost:8080/"
        },
        "id": "_6bvGHKf4E_I",
        "outputId": "01a5c4f2-db09-4a61-e76d-392d1fcd3a1a"
      },
      "execution_count": null,
      "outputs": [
        {
          "output_type": "execute_result",
          "data": {
            "text/plain": [
              "torch.Size([3, 5, 4])"
            ]
          },
          "metadata": {},
          "execution_count": 17
        }
      ]
    },
    {
      "cell_type": "markdown",
      "source": [
        "## 1. RNN 계열 모델 정의\n",
        "1. Vanila RNN\n",
        "2. LSTM\n",
        "\n",
        "\n"
      ],
      "metadata": {
        "id": "pr4cVyyECAHS"
      }
    },
    {
      "cell_type": "markdown",
      "source": [
        "### 2.1 Vanila RNN\n",
        "\n",
        "#### `torch.nn.RNN(input_size, hidden_size, batch_first)`\n",
        "- [pytorch document](https://pytorch.org/docs/stable/generated/torch.nn.RNN.html)\n",
        "- `input_size`: 입력해 주는 특성 값의 개수\n",
        "- `hidden_size`: hidden state의 사이즈 지정. 보통 arbitrary 함.\n",
        "- `batch_first`: 입력으로 받는 데이터의 shape중 첫 번째 차원을 batch로 간주할 것인지를 설정.\n",
        "  - True: (batch, seq, feature)\n",
        "  - False: (seq, batch, feature)"
      ],
      "metadata": {
        "id": "wIirfVJVPJx6"
      }
    },
    {
      "cell_type": "code",
      "source": [
        "# declare dimension\n",
        "input_size = 4\n",
        "hidden_size = 3\n",
        "\n",
        "# declare RNN\n",
        "rnn = torch.nn.RNN(input_size, hidden_size, batch_first=True)  # 처음에 batch_size or seq_length"
      ],
      "metadata": {
        "id": "bwHrWk8USK3z"
      },
      "execution_count": null,
      "outputs": []
    },
    {
      "cell_type": "code",
      "source": [
        "input_data"
      ],
      "metadata": {
        "colab": {
          "base_uri": "https://localhost:8080/"
        },
        "id": "3u-zf4Q3nJWk",
        "outputId": "cde1654a-e800-45f0-c096-5727d535bfc8"
      },
      "execution_count": null,
      "outputs": [
        {
          "output_type": "execute_result",
          "data": {
            "text/plain": [
              "tensor([[[1., 0., 0., 0.],\n",
              "         [0., 1., 0., 0.],\n",
              "         [0., 0., 1., 0.],\n",
              "         [0., 0., 1., 0.],\n",
              "         [0., 0., 0., 1.]],\n",
              "\n",
              "        [[0., 1., 0., 0.],\n",
              "         [0., 0., 0., 1.],\n",
              "         [0., 0., 1., 0.],\n",
              "         [0., 0., 1., 0.],\n",
              "         [0., 0., 1., 0.]],\n",
              "\n",
              "        [[0., 0., 1., 0.],\n",
              "         [0., 0., 1., 0.],\n",
              "         [0., 1., 0., 0.],\n",
              "         [0., 1., 0., 0.],\n",
              "         [0., 0., 1., 0.]]])"
            ]
          },
          "metadata": {},
          "execution_count": 8
        }
      ]
    },
    {
      "cell_type": "code",
      "metadata": {
        "id": "h2BSYqahNkat",
        "outputId": "a5caf1d4-eeb3-480c-d50a-8b89cb387fc3",
        "colab": {
          "base_uri": "https://localhost:8080/"
        }
      },
      "source": [
        "# check output\n",
        "outputs, _status = rnn(input_data)\n",
        "\n",
        "print(\"--------------모든 time steps의 hidden states-----------------\")\n",
        "print(\"outputs:\\n\", outputs)\n",
        "print(\"outputs size:\",outputs.size()) # (5번의 time step동안 3차원의 은닉 상태가 출력됨)*단어 3개\n",
        "# shape : (3, 5, 3)\n",
        "# (batch_size, seq_length, hidden_dim)\n",
        "print(\"--------------마지막 시점의 hidden state-----------------\")\n",
        "print(\"hidden state:\\n\", _status) # 마지막 시점의 hidden state\n",
        "print(\"hidden state size:\",_status.size())\n",
        "# shape: (1, 3, 3)\n",
        "# (num_layers, batch_size, hidden_dim)"
      ],
      "execution_count": null,
      "outputs": [
        {
          "output_type": "stream",
          "name": "stdout",
          "text": [
            "--------------모든 time steps의 hidden states-----------------\n",
            "outputs:\n",
            " tensor([[[ 0.0714,  0.2574, -0.7411],\n",
            "         [-0.2909,  0.6757, -0.5679],\n",
            "         [-0.5539,  0.0745, -0.7523],\n",
            "         [-0.5325,  0.2865, -0.5106],\n",
            "         [-0.4065, -0.2141, -0.5597]],\n",
            "\n",
            "        [[ 0.0460,  0.6588, -0.6216],\n",
            "         [-0.3888, -0.2288, -0.7504],\n",
            "         [-0.4218,  0.4226, -0.4555],\n",
            "         [-0.4955,  0.1317, -0.6928],\n",
            "         [-0.5153,  0.2671, -0.5565]],\n",
            "\n",
            "        [[-0.1071,  0.3053, -0.7438],\n",
            "         [-0.4803,  0.2826, -0.6808],\n",
            "         [-0.4244,  0.5975, -0.4396],\n",
            "         [-0.4117,  0.4884, -0.6059],\n",
            "         [-0.5503,  0.1314, -0.6862]]], grad_fn=<TransposeBackward1>)\n",
            "outputs size: torch.Size([3, 5, 3])\n",
            "--------------마지막 시점의 hidden state-----------------\n",
            "hidden state:\n",
            " tensor([[[-0.4065, -0.2141, -0.5597],\n",
            "         [-0.5153,  0.2671, -0.5565],\n",
            "         [-0.5503,  0.1314, -0.6862]]], grad_fn=<StackBackward0>)\n",
            "hidden state size: torch.Size([1, 3, 3])\n"
          ]
        }
      ]
    },
    {
      "cell_type": "markdown",
      "source": [
        "## 2.2 LSTM\n",
        "\n",
        "\n",
        "#### `torch.nn.LSTM(input_size, hidden_size, batch_first)`\n",
        "- [pytorch document](https://pytorch.org/docs/stable/generated/torch.nn.RNN.html)\n",
        "- `input_size`: 입력해 주는 특성 값의 개수\n",
        "- `hidden_size`: hidden state의 사이즈 지정. 보통 arbitrary 함.\n",
        "- `batch_first`: 입력으로 받는 데이터의 shape중 첫 번째 차원을 batch로 간주할 것인지를 설정.\n",
        "  - True: (batch, seq, feature)\n",
        "  - False: (seq, batch, feature)"
      ],
      "metadata": {
        "id": "WP3cdKu3Pztc"
      }
    },
    {
      "cell_type": "code",
      "metadata": {
        "id": "jiHML7PAOl7W",
        "outputId": "50b6021c-82ca-4ae1-9699-ff69ff1810a2",
        "colab": {
          "base_uri": "https://localhost:8080/"
        }
      },
      "source": [
        "lstm = torch.nn.LSTM(input_size, hidden_size, batch_first=True)\n",
        "outputs, _status = lstm(input_data)\n",
        "print(outputs)\n",
        "print(outputs.size())\n",
        "print()\n",
        "\n",
        "print(_status[0])\n",
        "print(_status[0].shape)"
      ],
      "execution_count": null,
      "outputs": [
        {
          "output_type": "stream",
          "name": "stdout",
          "text": [
            "tensor([[[ 0.0817, -0.0826, -0.0224],\n",
            "         [ 0.1010,  0.0253, -0.2162],\n",
            "         [ 0.1177, -0.0613, -0.1277],\n",
            "         [ 0.0883, -0.0982, -0.1151],\n",
            "         [ 0.1481, -0.2102, -0.1580]],\n",
            "\n",
            "        [[ 0.0812,  0.0761, -0.1982],\n",
            "         [ 0.1724, -0.0886, -0.1710],\n",
            "         [ 0.1256, -0.1003, -0.1442],\n",
            "         [ 0.0917, -0.1174, -0.1270],\n",
            "         [ 0.0732, -0.1245, -0.1212]],\n",
            "\n",
            "        [[ 0.0426, -0.0602, -0.0579],\n",
            "         [ 0.0561, -0.0932, -0.0878],\n",
            "         [ 0.0856, -0.0051, -0.2485],\n",
            "         [ 0.1095,  0.0300, -0.3012],\n",
            "         [ 0.1155, -0.0629, -0.1533]]], grad_fn=<TransposeBackward0>)\n",
            "torch.Size([3, 5, 3])\n",
            "\n",
            "tensor([[[ 0.1481, -0.2102, -0.1580],\n",
            "         [ 0.0732, -0.1245, -0.1212],\n",
            "         [ 0.1155, -0.0629, -0.1533]]], grad_fn=<StackBackward0>)\n",
            "torch.Size([1, 3, 3])\n"
          ]
        }
      ]
    }
  ]
}